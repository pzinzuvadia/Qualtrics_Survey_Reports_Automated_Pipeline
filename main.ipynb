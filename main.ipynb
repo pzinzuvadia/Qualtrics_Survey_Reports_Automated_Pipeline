{
 "cells": [
  {
   "cell_type": "code",
   "execution_count": null,
   "metadata": {},
   "outputs": [],
   "source": [
    "# Main python notebook to run the automate survey reports project.\n",
    "# Part1: Data Collection and Cleaning + Filtering + Pre-Processing.\n",
    "# Part2: Report generation for all categories of processed data."
   ]
  },
  {
   "cell_type": "markdown",
   "metadata": {},
   "source": [
    "## Part-1\n",
    "### Data Extraction and Pre-processing\n"
   ]
  },
  {
   "cell_type": "code",
   "execution_count": null,
   "metadata": {},
   "outputs": [],
   "source": [
    "# Importing necessary libraries\n",
    "\n",
    "from scripts.data_extraction import download_survey\n",
    "from scripts.data_extraction import get_data_after_recorded_date\n",
    "from scripts.data_extraction import merge_datasets\n",
    "from scripts.data_extraction import process_data\n",
    "\n",
    "import os"
   ]
  },
  {
   "cell_type": "code",
   "execution_count": null,
   "metadata": {},
   "outputs": [],
   "source": [
    "# Load environment variables from .env file for Qualtrics API.\n",
    "\n",
    "api_token = os.getenv(\"API_TOKEN\")\n",
    "intern_survey_id = os.getenv(\"INTERN_SURVEY_ID\")\n",
    "supervisor_survey_id = os.getenv(\"SUPERVISOR_SURVEY_ID\")\n",
    "datacenter_id = os.getenv(\"DATACENTER_ID\")"
   ]
  },
  {
   "cell_type": "code",
   "execution_count": null,
   "metadata": {},
   "outputs": [],
   "source": [
    "# Creating directory for processed data to be used in following functions.\n",
    "# Get the directory where the script is located\n",
    "# current_dir = os.path.dirname(os.path.abspath(\"main.ipynb\"))\n",
    "\n",
    "# Get the parent directory of the current directory\n",
    "# parent_dir = os.path.dirname(current_dir)\n",
    "\n",
    "# Define the output directory relative to the parent directory\n",
    "output_dir = os.path.join(\"MySurveys\", \"intermediate_results\")\n",
    "\n",
    "# Create the directory if it does not exist\n",
    "os.makedirs(output_dir, exist_ok=True)\n",
    "\n",
    "# Define the output directory relative to the parent directory\n",
    "p_output_dir = os.path.join( \"MySurveys\", \"processed_data\")\n",
    "\n",
    "# Create the directory if it does not exist\n",
    "os.makedirs(p_output_dir, exist_ok=True)\n",
    "\n",
    "# Define the output directory relative to the parent directory\n",
    "r_output_dir = os.path.join(\"MySurveys\", \"raw_data\")\n",
    "\n",
    "# Create the directory if it does not exist\n",
    "os.makedirs(r_output_dir, exist_ok=True)\n",
    "\n"
   ]
  },
  {
   "cell_type": "code",
   "execution_count": null,
   "metadata": {},
   "outputs": [],
   "source": [
    "# Extracting raw data from Qualtrics API\n",
    "\n",
    "# Downloading Intern Survey Data\n",
    "download_survey(intern_survey_id, datacenter_id, api_token)\n",
    "\n",
    "# Downloading Supervisor Survey Data\n",
    "download_survey(supervisor_survey_id, datacenter_id, api_token)"
   ]
  },
  {
   "cell_type": "code",
   "execution_count": null,
   "metadata": {},
   "outputs": [],
   "source": [
    "# Filtering datasets based on the user input date onwards (YYYY-MM-DD) for both students and supervisors\n",
    "intern_data, supervisor_data = get_data_after_recorded_date()"
   ]
  },
  {
   "cell_type": "code",
   "execution_count": null,
   "metadata": {},
   "outputs": [],
   "source": [
    "# Merging Intern and Supervisor datasets based on key columns\n",
    "merged_data = merge_datasets(intern_data, supervisor_data)"
   ]
  },
  {
   "cell_type": "code",
   "execution_count": null,
   "metadata": {},
   "outputs": [],
   "source": [
    "# Final step for data pre-processing:\n",
    "# 1. Complete data records for both students and supervisors\n",
    "# 2. Only_students_records\n",
    "# 3. Only_supervisors_records\n",
    "# 4. Concatenating joined records with mismatch supervisor names for same students.\n",
    "\n",
    "process_data(merged_data)"
   ]
  },
  {
   "cell_type": "markdown",
   "metadata": {},
   "source": [
    "## Part 2\n",
    "### Report generation"
   ]
  },
  {
   "cell_type": "code",
   "execution_count": null,
   "metadata": {},
   "outputs": [],
   "source": [
    "# importing necessary libraries\n",
    "\n",
    "from scripts.reports_generation import generate_reports_from_complete_csv\n",
    "from scripts.reports_generation import generate_reports_from_only_student_csv\n",
    "from scripts.reports_generation import generate_reports_from_only_supervisor_csv\n",
    "\n",
    "import os"
   ]
  },
  {
   "cell_type": "code",
   "execution_count": null,
   "metadata": {},
   "outputs": [],
   "source": [
    "# Creating directory for processed data to be used in following functions.\n",
    "\n",
    "# Define the output directory relative to the parent directory for complete reports storage\n",
    "cr_output_dir = os.path.join( \"Reports\", \"complete_reports\")\n",
    "\n",
    "# Create the directory if it does not exist\n",
    "os.makedirs(cr_output_dir, exist_ok=True)\n",
    "\n",
    "# Define the output directory relative to the parent directory for only students reports storage\n",
    "osr_output_dir = os.path.join( \"Reports\", \"only_students_reports\")\n",
    "\n",
    "# Create the directory if it does not exist\n",
    "os.makedirs(osr_output_dir, exist_ok=True)\n",
    "\n",
    "# Define the output directory relative to the parent directory for only supervisor reports storage\n",
    "osur_output_dir = os.path.join( \"Reports\", \"only_supervisor_reports\")\n",
    "\n",
    "# Create the directory if it does not exist\n",
    "os.makedirs(osur_output_dir, exist_ok=True)"
   ]
  },
  {
   "cell_type": "code",
   "execution_count": null,
   "metadata": {},
   "outputs": [],
   "source": [
    "# Report generation for complete records where we have data for both supervisors and students.\n",
    "complete_csv_path = \"MySurveys/processed_data/processed_completed_data.csv\"\n",
    "generate_reports_from_complete_csv(complete_csv_path, cr_output_dir)"
   ]
  },
  {
   "cell_type": "code",
   "execution_count": null,
   "metadata": {},
   "outputs": [],
   "source": [
    "# Report generation for only students records where we have only students survey data and not for supervisors.\n",
    "only_student_csv_path = \"MySurveys/processed_data/processed_only_student_data.csv\"\n",
    "generate_reports_from_only_student_csv(only_student_csv_path, osr_output_dir)"
   ]
  },
  {
   "cell_type": "code",
   "execution_count": null,
   "metadata": {},
   "outputs": [],
   "source": [
    "# Report generation for only supervisor records where we have only supervisor survey data and not for students.\n",
    "only_supervisor_csv_path = \"MySurveys/processed_data/processed_only_supervisor_data.csv\"\n",
    "generate_reports_from_only_supervisor_csv(only_supervisor_csv_path, osur_output_dir)"
   ]
  },
  {
   "cell_type": "code",
   "execution_count": null,
   "metadata": {},
   "outputs": [],
   "source": []
  }
 ],
 "metadata": {
  "kernelspec": {
   "display_name": ".venv",
   "language": "python",
   "name": "python3"
  },
  "language_info": {
   "codemirror_mode": {
    "name": "ipython",
    "version": 3
   },
   "file_extension": ".py",
   "mimetype": "text/x-python",
   "name": "python",
   "nbconvert_exporter": "python",
   "pygments_lexer": "ipython3",
   "version": "3.9.6"
  }
 },
 "nbformat": 4,
 "nbformat_minor": 2
}
